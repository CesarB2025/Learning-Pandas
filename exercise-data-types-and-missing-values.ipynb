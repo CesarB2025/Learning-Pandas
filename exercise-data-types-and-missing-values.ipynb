{
 "cells": [
  {
   "cell_type": "markdown",
   "id": "0c167dcf",
   "metadata": {
    "papermill": {
     "duration": 0.005099,
     "end_time": "2024-09-08T22:27:22.259296",
     "exception": false,
     "start_time": "2024-09-08T22:27:22.254197",
     "status": "completed"
    },
    "tags": []
   },
   "source": [
    "**This notebook is an exercise in the [Pandas](https://www.kaggle.com/learn/pandas) course.  You can reference the tutorial at [this link](https://www.kaggle.com/residentmario/data-types-and-missing-values).**\n",
    "\n",
    "---\n"
   ]
  },
  {
   "cell_type": "markdown",
   "id": "988d4511",
   "metadata": {
    "papermill": {
     "duration": 0.004121,
     "end_time": "2024-09-08T22:27:22.268039",
     "exception": false,
     "start_time": "2024-09-08T22:27:22.263918",
     "status": "completed"
    },
    "tags": []
   },
   "source": [
    "# Introduction\n",
    "\n",
    "Run the following cell to load your data and some utility functions."
   ]
  },
  {
   "cell_type": "code",
   "execution_count": 1,
   "id": "1e123e14",
   "metadata": {
    "execution": {
     "iopub.execute_input": "2024-09-08T22:27:22.278950Z",
     "iopub.status.busy": "2024-09-08T22:27:22.278113Z",
     "iopub.status.idle": "2024-09-08T22:27:25.657661Z",
     "shell.execute_reply": "2024-09-08T22:27:25.656620Z"
    },
    "papermill": {
     "duration": 3.387561,
     "end_time": "2024-09-08T22:27:25.659930",
     "exception": false,
     "start_time": "2024-09-08T22:27:22.272369",
     "status": "completed"
    },
    "tags": []
   },
   "outputs": [
    {
     "name": "stdout",
     "output_type": "stream",
     "text": [
      "Setup complete.\n"
     ]
    }
   ],
   "source": [
    "import pandas as pd\n",
    "\n",
    "reviews = pd.read_csv(\"../input/wine-reviews/winemag-data-130k-v2.csv\", index_col=0)\n",
    "\n",
    "from learntools.core import binder; binder.bind(globals())\n",
    "from learntools.pandas.data_types_and_missing_data import *\n",
    "print(\"Setup complete.\")"
   ]
  },
  {
   "cell_type": "markdown",
   "id": "747ee3b1",
   "metadata": {
    "papermill": {
     "duration": 0.004284,
     "end_time": "2024-09-08T22:27:25.668759",
     "exception": false,
     "start_time": "2024-09-08T22:27:25.664475",
     "status": "completed"
    },
    "tags": []
   },
   "source": [
    "# Exercises"
   ]
  },
  {
   "cell_type": "markdown",
   "id": "4cd6fe62",
   "metadata": {
    "papermill": {
     "duration": 0.004123,
     "end_time": "2024-09-08T22:27:25.677231",
     "exception": false,
     "start_time": "2024-09-08T22:27:25.673108",
     "status": "completed"
    },
    "tags": []
   },
   "source": [
    "## 1. \n",
    "What is the data type of the `points` column in the dataset?"
   ]
  },
  {
   "cell_type": "code",
   "execution_count": 2,
   "id": "475fd58a",
   "metadata": {
    "execution": {
     "iopub.execute_input": "2024-09-08T22:27:25.687950Z",
     "iopub.status.busy": "2024-09-08T22:27:25.687274Z",
     "iopub.status.idle": "2024-09-08T22:27:25.697471Z",
     "shell.execute_reply": "2024-09-08T22:27:25.696479Z"
    },
    "papermill": {
     "duration": 0.01809,
     "end_time": "2024-09-08T22:27:25.699717",
     "exception": false,
     "start_time": "2024-09-08T22:27:25.681627",
     "status": "completed"
    },
    "tags": []
   },
   "outputs": [
    {
     "data": {
      "application/javascript": [
       "parent.postMessage({\"jupyterEvent\": \"custom.exercise_interaction\", \"data\": {\"outcomeType\": 1, \"valueTowardsCompletion\": 0.25, \"interactionType\": 1, \"questionType\": 1, \"questionId\": \"1_PointsDtype\", \"learnToolsVersion\": \"0.3.4\", \"failureMessage\": \"\", \"exceptionClass\": \"\", \"trace\": \"\"}}, \"*\")"
      ],
      "text/plain": [
       "<IPython.core.display.Javascript object>"
      ]
     },
     "metadata": {},
     "output_type": "display_data"
    },
    {
     "data": {
      "text/markdown": [
       "<span style=\"color:#33cc33\">Correct</span>"
      ],
      "text/plain": [
       "Correct"
      ]
     },
     "metadata": {},
     "output_type": "display_data"
    }
   ],
   "source": [
    "# Your code here\n",
    "dtype = reviews.points.dtype\n",
    "\n",
    "# Check your answer\n",
    "q1.check()"
   ]
  },
  {
   "cell_type": "code",
   "execution_count": 3,
   "id": "f9a08bfa",
   "metadata": {
    "execution": {
     "iopub.execute_input": "2024-09-08T22:27:25.711698Z",
     "iopub.status.busy": "2024-09-08T22:27:25.710998Z",
     "iopub.status.idle": "2024-09-08T22:27:25.715196Z",
     "shell.execute_reply": "2024-09-08T22:27:25.714231Z"
    },
    "papermill": {
     "duration": 0.012754,
     "end_time": "2024-09-08T22:27:25.717289",
     "exception": false,
     "start_time": "2024-09-08T22:27:25.704535",
     "status": "completed"
    },
    "tags": []
   },
   "outputs": [],
   "source": [
    "#q1.hint()\n",
    "#q1.solution()"
   ]
  },
  {
   "cell_type": "markdown",
   "id": "17891515",
   "metadata": {
    "papermill": {
     "duration": 0.004577,
     "end_time": "2024-09-08T22:27:25.726632",
     "exception": false,
     "start_time": "2024-09-08T22:27:25.722055",
     "status": "completed"
    },
    "tags": []
   },
   "source": [
    "## 2. \n",
    "Create a Series from entries in the `points` column, but convert the entries to strings. Hint: strings are `str` in native Python."
   ]
  },
  {
   "cell_type": "code",
   "execution_count": 4,
   "id": "a694bb24",
   "metadata": {
    "execution": {
     "iopub.execute_input": "2024-09-08T22:27:25.738006Z",
     "iopub.status.busy": "2024-09-08T22:27:25.737101Z",
     "iopub.status.idle": "2024-09-08T22:27:25.779704Z",
     "shell.execute_reply": "2024-09-08T22:27:25.778723Z"
    },
    "papermill": {
     "duration": 0.050538,
     "end_time": "2024-09-08T22:27:25.781813",
     "exception": false,
     "start_time": "2024-09-08T22:27:25.731275",
     "status": "completed"
    },
    "tags": []
   },
   "outputs": [
    {
     "data": {
      "application/javascript": [
       "parent.postMessage({\"jupyterEvent\": \"custom.exercise_interaction\", \"data\": {\"outcomeType\": 1, \"valueTowardsCompletion\": 0.25, \"interactionType\": 1, \"questionType\": 1, \"questionId\": \"2_StrPoints\", \"learnToolsVersion\": \"0.3.4\", \"failureMessage\": \"\", \"exceptionClass\": \"\", \"trace\": \"\"}}, \"*\")"
      ],
      "text/plain": [
       "<IPython.core.display.Javascript object>"
      ]
     },
     "metadata": {},
     "output_type": "display_data"
    },
    {
     "data": {
      "text/markdown": [
       "<span style=\"color:#33cc33\">Correct</span>"
      ],
      "text/plain": [
       "Correct"
      ]
     },
     "metadata": {},
     "output_type": "display_data"
    }
   ],
   "source": [
    "point_strings = reviews.points.astype(str)\n",
    "\n",
    "# Check your answer\n",
    "q2.check()"
   ]
  },
  {
   "cell_type": "code",
   "execution_count": 5,
   "id": "16877fab",
   "metadata": {
    "execution": {
     "iopub.execute_input": "2024-09-08T22:27:25.793612Z",
     "iopub.status.busy": "2024-09-08T22:27:25.792945Z",
     "iopub.status.idle": "2024-09-08T22:27:25.797289Z",
     "shell.execute_reply": "2024-09-08T22:27:25.796260Z"
    },
    "papermill": {
     "duration": 0.012575,
     "end_time": "2024-09-08T22:27:25.799422",
     "exception": false,
     "start_time": "2024-09-08T22:27:25.786847",
     "status": "completed"
    },
    "tags": []
   },
   "outputs": [],
   "source": [
    "#q2.hint()\n",
    "#q2.solution()"
   ]
  },
  {
   "cell_type": "markdown",
   "id": "5303dd92",
   "metadata": {
    "papermill": {
     "duration": 0.004838,
     "end_time": "2024-09-08T22:27:25.809368",
     "exception": false,
     "start_time": "2024-09-08T22:27:25.804530",
     "status": "completed"
    },
    "tags": []
   },
   "source": [
    "## 3.\n",
    "Sometimes the price column is null. How many reviews in the dataset are missing a price?"
   ]
  },
  {
   "cell_type": "code",
   "execution_count": 6,
   "id": "01ed8121",
   "metadata": {
    "execution": {
     "iopub.execute_input": "2024-09-08T22:27:25.820835Z",
     "iopub.status.busy": "2024-09-08T22:27:25.820448Z",
     "iopub.status.idle": "2024-09-08T22:27:25.829602Z",
     "shell.execute_reply": "2024-09-08T22:27:25.828640Z"
    },
    "papermill": {
     "duration": 0.01741,
     "end_time": "2024-09-08T22:27:25.831752",
     "exception": false,
     "start_time": "2024-09-08T22:27:25.814342",
     "status": "completed"
    },
    "tags": []
   },
   "outputs": [
    {
     "data": {
      "application/javascript": [
       "parent.postMessage({\"jupyterEvent\": \"custom.exercise_interaction\", \"data\": {\"outcomeType\": 1, \"valueTowardsCompletion\": 0.25, \"interactionType\": 1, \"questionType\": 1, \"questionId\": \"3_CountMissingPrices\", \"learnToolsVersion\": \"0.3.4\", \"failureMessage\": \"\", \"exceptionClass\": \"\", \"trace\": \"\"}}, \"*\")"
      ],
      "text/plain": [
       "<IPython.core.display.Javascript object>"
      ]
     },
     "metadata": {},
     "output_type": "display_data"
    },
    {
     "data": {
      "text/markdown": [
       "<span style=\"color:#33cc33\">Correct</span>"
      ],
      "text/plain": [
       "Correct"
      ]
     },
     "metadata": {},
     "output_type": "display_data"
    }
   ],
   "source": [
    "n_missing_prices = reviews.price.isnull().sum()\n",
    "# Check your answer\n",
    "q3.check()"
   ]
  },
  {
   "cell_type": "code",
   "execution_count": 7,
   "id": "850a7665",
   "metadata": {
    "execution": {
     "iopub.execute_input": "2024-09-08T22:27:25.844129Z",
     "iopub.status.busy": "2024-09-08T22:27:25.843732Z",
     "iopub.status.idle": "2024-09-08T22:27:25.848218Z",
     "shell.execute_reply": "2024-09-08T22:27:25.847212Z"
    },
    "papermill": {
     "duration": 0.01334,
     "end_time": "2024-09-08T22:27:25.850455",
     "exception": false,
     "start_time": "2024-09-08T22:27:25.837115",
     "status": "completed"
    },
    "tags": []
   },
   "outputs": [],
   "source": [
    "#q3.hint()\n",
    "#q3.solution()"
   ]
  },
  {
   "cell_type": "markdown",
   "id": "f56280dd",
   "metadata": {
    "papermill": {
     "duration": 0.005158,
     "end_time": "2024-09-08T22:27:25.860990",
     "exception": false,
     "start_time": "2024-09-08T22:27:25.855832",
     "status": "completed"
    },
    "tags": []
   },
   "source": [
    "## 4.\n",
    "What are the most common wine-producing regions? Create a Series counting the number of times each value occurs in the `region_1` field. This field is often missing data, so replace missing values with `Unknown`. Sort in descending order.  Your output should look something like this:\n",
    "\n",
    "```\n",
    "Unknown                    21247\n",
    "Napa Valley                 4480\n",
    "                           ...  \n",
    "Bardolino Superiore            1\n",
    "Primitivo del Tarantino        1\n",
    "Name: region_1, Length: 1230, dtype: int64\n",
    "```"
   ]
  },
  {
   "cell_type": "code",
   "execution_count": 8,
   "id": "369a72e6",
   "metadata": {
    "execution": {
     "iopub.execute_input": "2024-09-08T22:27:25.873286Z",
     "iopub.status.busy": "2024-09-08T22:27:25.872893Z",
     "iopub.status.idle": "2024-09-08T22:27:25.925479Z",
     "shell.execute_reply": "2024-09-08T22:27:25.924519Z"
    },
    "papermill": {
     "duration": 0.061471,
     "end_time": "2024-09-08T22:27:25.927855",
     "exception": false,
     "start_time": "2024-09-08T22:27:25.866384",
     "status": "completed"
    },
    "tags": []
   },
   "outputs": [
    {
     "data": {
      "application/javascript": [
       "parent.postMessage({\"jupyterEvent\": \"custom.exercise_interaction\", \"data\": {\"outcomeType\": 1, \"valueTowardsCompletion\": 0.25, \"interactionType\": 1, \"questionType\": 2, \"questionId\": \"4_ReviewsPerRegion\", \"learnToolsVersion\": \"0.3.4\", \"failureMessage\": \"\", \"exceptionClass\": \"\", \"trace\": \"\"}}, \"*\")"
      ],
      "text/plain": [
       "<IPython.core.display.Javascript object>"
      ]
     },
     "metadata": {},
     "output_type": "display_data"
    },
    {
     "data": {
      "text/markdown": [
       "<span style=\"color:#33cc33\">Correct</span>"
      ],
      "text/plain": [
       "Correct"
      ]
     },
     "metadata": {},
     "output_type": "display_data"
    }
   ],
   "source": [
    "reviews_per_region = reviews.region_1.fillna('Unknown').value_counts().sort_values(ascending=False)\n",
    "\n",
    "# Check your answer\n",
    "q4.check()"
   ]
  },
  {
   "cell_type": "code",
   "execution_count": 9,
   "id": "9328628a",
   "metadata": {
    "execution": {
     "iopub.execute_input": "2024-09-08T22:27:25.941114Z",
     "iopub.status.busy": "2024-09-08T22:27:25.940040Z",
     "iopub.status.idle": "2024-09-08T22:27:25.944894Z",
     "shell.execute_reply": "2024-09-08T22:27:25.943874Z"
    },
    "papermill": {
     "duration": 0.013764,
     "end_time": "2024-09-08T22:27:25.947073",
     "exception": false,
     "start_time": "2024-09-08T22:27:25.933309",
     "status": "completed"
    },
    "tags": []
   },
   "outputs": [],
   "source": [
    "#q4.hint()\n",
    "#q4.solution()"
   ]
  },
  {
   "cell_type": "markdown",
   "id": "48568a1e",
   "metadata": {
    "papermill": {
     "duration": 0.005125,
     "end_time": "2024-09-08T22:27:25.957692",
     "exception": false,
     "start_time": "2024-09-08T22:27:25.952567",
     "status": "completed"
    },
    "tags": []
   },
   "source": [
    "# Keep going\n",
    "\n",
    "Move on to **[renaming and combining](https://www.kaggle.com/residentmario/renaming-and-combining)**."
   ]
  },
  {
   "cell_type": "markdown",
   "id": "f1f4329a",
   "metadata": {
    "papermill": {
     "duration": 0.005045,
     "end_time": "2024-09-08T22:27:25.968046",
     "exception": false,
     "start_time": "2024-09-08T22:27:25.963001",
     "status": "completed"
    },
    "tags": []
   },
   "source": [
    "---\n",
    "\n",
    "\n",
    "\n",
    "\n",
    "*Have questions or comments? Visit the [course discussion forum](https://www.kaggle.com/learn/pandas/discussion) to chat with other learners.*"
   ]
  }
 ],
 "metadata": {
  "kaggle": {
   "accelerator": "none",
   "dataSources": [
    {
     "datasetId": 655,
     "sourceId": 1252,
     "sourceType": "datasetVersion"
    },
    {
     "datasetId": 2321,
     "sourceId": 3919,
     "sourceType": "datasetVersion"
    },
    {
     "datasetId": 2894,
     "sourceId": 4877,
     "sourceType": "datasetVersion"
    },
    {
     "datasetId": 3491,
     "sourceId": 5624,
     "sourceType": "datasetVersion"
    },
    {
     "datasetId": 1442,
     "sourceId": 8172,
     "sourceType": "datasetVersion"
    },
    {
     "datasetId": 9366,
     "sourceId": 13206,
     "sourceType": "datasetVersion"
    },
    {
     "datasetId": 179555,
     "sourceId": 403916,
     "sourceType": "datasetVersion"
    },
    {
     "datasetId": 4549,
     "sourceId": 466349,
     "sourceType": "datasetVersion"
    },
    {
     "datasetId": 2478,
     "sourceId": 1151655,
     "sourceType": "datasetVersion"
    },
    {
     "datasetId": 10128,
     "sourceId": 5438389,
     "sourceType": "datasetVersion"
    }
   ],
   "isGpuEnabled": false,
   "isInternetEnabled": false,
   "language": "python",
   "sourceType": "notebook"
  },
  "kernelspec": {
   "display_name": "Python 3",
   "language": "python",
   "name": "python3"
  },
  "language_info": {
   "codemirror_mode": {
    "name": "ipython",
    "version": 3
   },
   "file_extension": ".py",
   "mimetype": "text/x-python",
   "name": "python",
   "nbconvert_exporter": "python",
   "pygments_lexer": "ipython3",
   "version": "3.10.14"
  },
  "papermill": {
   "default_parameters": {},
   "duration": 6.851399,
   "end_time": "2024-09-08T22:27:26.493316",
   "environment_variables": {},
   "exception": null,
   "input_path": "__notebook__.ipynb",
   "output_path": "__notebook__.ipynb",
   "parameters": {},
   "start_time": "2024-09-08T22:27:19.641917",
   "version": "2.6.0"
  }
 },
 "nbformat": 4,
 "nbformat_minor": 5
}
