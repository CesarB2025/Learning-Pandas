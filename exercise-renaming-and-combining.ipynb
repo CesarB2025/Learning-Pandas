{
 "cells": [
  {
   "cell_type": "markdown",
   "id": "a5a01e44",
   "metadata": {
    "papermill": {
     "duration": 0.008704,
     "end_time": "2024-09-08T22:35:02.131055",
     "exception": false,
     "start_time": "2024-09-08T22:35:02.122351",
     "status": "completed"
    },
    "tags": []
   },
   "source": [
    "**This notebook is an exercise in the [Pandas](https://www.kaggle.com/learn/pandas) course.  You can reference the tutorial at [this link](https://www.kaggle.com/residentmario/renaming-and-combining).**\n",
    "\n",
    "---\n"
   ]
  },
  {
   "cell_type": "markdown",
   "id": "ac8138d2",
   "metadata": {
    "papermill": {
     "duration": 0.007492,
     "end_time": "2024-09-08T22:35:02.146659",
     "exception": false,
     "start_time": "2024-09-08T22:35:02.139167",
     "status": "completed"
    },
    "tags": []
   },
   "source": [
    "# Introduction\n",
    "\n",
    "Run the following cell to load your data and some utility functions."
   ]
  },
  {
   "cell_type": "code",
   "execution_count": 1,
   "id": "f1908613",
   "metadata": {
    "execution": {
     "iopub.execute_input": "2024-09-08T22:35:02.164541Z",
     "iopub.status.busy": "2024-09-08T22:35:02.164008Z",
     "iopub.status.idle": "2024-09-08T22:35:08.167330Z",
     "shell.execute_reply": "2024-09-08T22:35:08.165422Z"
    },
    "papermill": {
     "duration": 6.016236,
     "end_time": "2024-09-08T22:35:08.170668",
     "exception": false,
     "start_time": "2024-09-08T22:35:02.154432",
     "status": "completed"
    },
    "tags": []
   },
   "outputs": [
    {
     "name": "stdout",
     "output_type": "stream",
     "text": [
      "Setup complete.\n"
     ]
    }
   ],
   "source": [
    "import pandas as pd\n",
    "\n",
    "reviews = pd.read_csv(\"../input/wine-reviews/winemag-data-130k-v2.csv\", index_col=0)\n",
    "\n",
    "from learntools.core import binder; binder.bind(globals())\n",
    "from learntools.pandas.renaming_and_combining import *\n",
    "print(\"Setup complete.\")"
   ]
  },
  {
   "cell_type": "markdown",
   "id": "902f7671",
   "metadata": {
    "papermill": {
     "duration": 0.007639,
     "end_time": "2024-09-08T22:35:08.186953",
     "exception": false,
     "start_time": "2024-09-08T22:35:08.179314",
     "status": "completed"
    },
    "tags": []
   },
   "source": [
    "# Exercises\n",
    "\n",
    "View the first several lines of your data by running the cell below:"
   ]
  },
  {
   "cell_type": "code",
   "execution_count": 2,
   "id": "9bfcff7c",
   "metadata": {
    "execution": {
     "iopub.execute_input": "2024-09-08T22:35:08.205239Z",
     "iopub.status.busy": "2024-09-08T22:35:08.204687Z",
     "iopub.status.idle": "2024-09-08T22:35:08.234100Z",
     "shell.execute_reply": "2024-09-08T22:35:08.232606Z"
    },
    "papermill": {
     "duration": 0.042078,
     "end_time": "2024-09-08T22:35:08.237045",
     "exception": false,
     "start_time": "2024-09-08T22:35:08.194967",
     "status": "completed"
    },
    "tags": []
   },
   "outputs": [
    {
     "data": {
      "text/html": [
       "<div>\n",
       "<style scoped>\n",
       "    .dataframe tbody tr th:only-of-type {\n",
       "        vertical-align: middle;\n",
       "    }\n",
       "\n",
       "    .dataframe tbody tr th {\n",
       "        vertical-align: top;\n",
       "    }\n",
       "\n",
       "    .dataframe thead th {\n",
       "        text-align: right;\n",
       "    }\n",
       "</style>\n",
       "<table border=\"1\" class=\"dataframe\">\n",
       "  <thead>\n",
       "    <tr style=\"text-align: right;\">\n",
       "      <th></th>\n",
       "      <th>country</th>\n",
       "      <th>description</th>\n",
       "      <th>designation</th>\n",
       "      <th>points</th>\n",
       "      <th>price</th>\n",
       "      <th>province</th>\n",
       "      <th>region_1</th>\n",
       "      <th>region_2</th>\n",
       "      <th>taster_name</th>\n",
       "      <th>taster_twitter_handle</th>\n",
       "      <th>title</th>\n",
       "      <th>variety</th>\n",
       "      <th>winery</th>\n",
       "    </tr>\n",
       "  </thead>\n",
       "  <tbody>\n",
       "    <tr>\n",
       "      <th>0</th>\n",
       "      <td>Italy</td>\n",
       "      <td>Aromas include tropical fruit, broom, brimston...</td>\n",
       "      <td>Vulkà Bianco</td>\n",
       "      <td>87</td>\n",
       "      <td>NaN</td>\n",
       "      <td>Sicily &amp; Sardinia</td>\n",
       "      <td>Etna</td>\n",
       "      <td>NaN</td>\n",
       "      <td>Kerin O’Keefe</td>\n",
       "      <td>@kerinokeefe</td>\n",
       "      <td>Nicosia 2013 Vulkà Bianco  (Etna)</td>\n",
       "      <td>White Blend</td>\n",
       "      <td>Nicosia</td>\n",
       "    </tr>\n",
       "    <tr>\n",
       "      <th>1</th>\n",
       "      <td>Portugal</td>\n",
       "      <td>This is ripe and fruity, a wine that is smooth...</td>\n",
       "      <td>Avidagos</td>\n",
       "      <td>87</td>\n",
       "      <td>15.0</td>\n",
       "      <td>Douro</td>\n",
       "      <td>NaN</td>\n",
       "      <td>NaN</td>\n",
       "      <td>Roger Voss</td>\n",
       "      <td>@vossroger</td>\n",
       "      <td>Quinta dos Avidagos 2011 Avidagos Red (Douro)</td>\n",
       "      <td>Portuguese Red</td>\n",
       "      <td>Quinta dos Avidagos</td>\n",
       "    </tr>\n",
       "    <tr>\n",
       "      <th>2</th>\n",
       "      <td>US</td>\n",
       "      <td>Tart and snappy, the flavors of lime flesh and...</td>\n",
       "      <td>NaN</td>\n",
       "      <td>87</td>\n",
       "      <td>14.0</td>\n",
       "      <td>Oregon</td>\n",
       "      <td>Willamette Valley</td>\n",
       "      <td>Willamette Valley</td>\n",
       "      <td>Paul Gregutt</td>\n",
       "      <td>@paulgwine</td>\n",
       "      <td>Rainstorm 2013 Pinot Gris (Willamette Valley)</td>\n",
       "      <td>Pinot Gris</td>\n",
       "      <td>Rainstorm</td>\n",
       "    </tr>\n",
       "    <tr>\n",
       "      <th>3</th>\n",
       "      <td>US</td>\n",
       "      <td>Pineapple rind, lemon pith and orange blossom ...</td>\n",
       "      <td>Reserve Late Harvest</td>\n",
       "      <td>87</td>\n",
       "      <td>13.0</td>\n",
       "      <td>Michigan</td>\n",
       "      <td>Lake Michigan Shore</td>\n",
       "      <td>NaN</td>\n",
       "      <td>Alexander Peartree</td>\n",
       "      <td>NaN</td>\n",
       "      <td>St. Julian 2013 Reserve Late Harvest Riesling ...</td>\n",
       "      <td>Riesling</td>\n",
       "      <td>St. Julian</td>\n",
       "    </tr>\n",
       "    <tr>\n",
       "      <th>4</th>\n",
       "      <td>US</td>\n",
       "      <td>Much like the regular bottling from 2012, this...</td>\n",
       "      <td>Vintner's Reserve Wild Child Block</td>\n",
       "      <td>87</td>\n",
       "      <td>65.0</td>\n",
       "      <td>Oregon</td>\n",
       "      <td>Willamette Valley</td>\n",
       "      <td>Willamette Valley</td>\n",
       "      <td>Paul Gregutt</td>\n",
       "      <td>@paulgwine</td>\n",
       "      <td>Sweet Cheeks 2012 Vintner's Reserve Wild Child...</td>\n",
       "      <td>Pinot Noir</td>\n",
       "      <td>Sweet Cheeks</td>\n",
       "    </tr>\n",
       "  </tbody>\n",
       "</table>\n",
       "</div>"
      ],
      "text/plain": [
       "    country                                        description  \\\n",
       "0     Italy  Aromas include tropical fruit, broom, brimston...   \n",
       "1  Portugal  This is ripe and fruity, a wine that is smooth...   \n",
       "2        US  Tart and snappy, the flavors of lime flesh and...   \n",
       "3        US  Pineapple rind, lemon pith and orange blossom ...   \n",
       "4        US  Much like the regular bottling from 2012, this...   \n",
       "\n",
       "                          designation  points  price           province  \\\n",
       "0                        Vulkà Bianco      87    NaN  Sicily & Sardinia   \n",
       "1                            Avidagos      87   15.0              Douro   \n",
       "2                                 NaN      87   14.0             Oregon   \n",
       "3                Reserve Late Harvest      87   13.0           Michigan   \n",
       "4  Vintner's Reserve Wild Child Block      87   65.0             Oregon   \n",
       "\n",
       "              region_1           region_2         taster_name  \\\n",
       "0                 Etna                NaN       Kerin O’Keefe   \n",
       "1                  NaN                NaN          Roger Voss   \n",
       "2    Willamette Valley  Willamette Valley        Paul Gregutt   \n",
       "3  Lake Michigan Shore                NaN  Alexander Peartree   \n",
       "4    Willamette Valley  Willamette Valley        Paul Gregutt   \n",
       "\n",
       "  taster_twitter_handle                                              title  \\\n",
       "0          @kerinokeefe                  Nicosia 2013 Vulkà Bianco  (Etna)   \n",
       "1            @vossroger      Quinta dos Avidagos 2011 Avidagos Red (Douro)   \n",
       "2           @paulgwine       Rainstorm 2013 Pinot Gris (Willamette Valley)   \n",
       "3                   NaN  St. Julian 2013 Reserve Late Harvest Riesling ...   \n",
       "4           @paulgwine   Sweet Cheeks 2012 Vintner's Reserve Wild Child...   \n",
       "\n",
       "          variety               winery  \n",
       "0     White Blend              Nicosia  \n",
       "1  Portuguese Red  Quinta dos Avidagos  \n",
       "2      Pinot Gris            Rainstorm  \n",
       "3        Riesling           St. Julian  \n",
       "4      Pinot Noir         Sweet Cheeks  "
      ]
     },
     "execution_count": 2,
     "metadata": {},
     "output_type": "execute_result"
    }
   ],
   "source": [
    "reviews.head()"
   ]
  },
  {
   "cell_type": "markdown",
   "id": "9f23b860",
   "metadata": {
    "papermill": {
     "duration": 0.007844,
     "end_time": "2024-09-08T22:35:08.253227",
     "exception": false,
     "start_time": "2024-09-08T22:35:08.245383",
     "status": "completed"
    },
    "tags": []
   },
   "source": [
    "## 1.\n",
    "`region_1` and `region_2` are pretty uninformative names for locale columns in the dataset. Create a copy of `reviews` with these columns renamed to `region` and `locale`, respectively."
   ]
  },
  {
   "cell_type": "code",
   "execution_count": 3,
   "id": "d611c745",
   "metadata": {
    "execution": {
     "iopub.execute_input": "2024-09-08T22:35:08.272003Z",
     "iopub.status.busy": "2024-09-08T22:35:08.271452Z",
     "iopub.status.idle": "2024-09-08T22:35:08.300480Z",
     "shell.execute_reply": "2024-09-08T22:35:08.299293Z"
    },
    "papermill": {
     "duration": 0.042474,
     "end_time": "2024-09-08T22:35:08.303890",
     "exception": false,
     "start_time": "2024-09-08T22:35:08.261416",
     "status": "completed"
    },
    "tags": []
   },
   "outputs": [
    {
     "data": {
      "application/javascript": [
       "parent.postMessage({\"jupyterEvent\": \"custom.exercise_interaction\", \"data\": {\"outcomeType\": 1, \"valueTowardsCompletion\": 0.25, \"interactionType\": 1, \"questionType\": 1, \"questionId\": \"1_RenameCols\", \"learnToolsVersion\": \"0.3.4\", \"failureMessage\": \"\", \"exceptionClass\": \"\", \"trace\": \"\"}}, \"*\")"
      ],
      "text/plain": [
       "<IPython.core.display.Javascript object>"
      ]
     },
     "metadata": {},
     "output_type": "display_data"
    },
    {
     "data": {
      "text/markdown": [
       "<span style=\"color:#33cc33\">Correct</span>"
      ],
      "text/plain": [
       "Correct"
      ]
     },
     "metadata": {},
     "output_type": "display_data"
    }
   ],
   "source": [
    "# Your code here\n",
    "renamed = reviews.rename(columns=dict(region_1='region', region_2='locale'))\n",
    "\n",
    "# Check your answer\n",
    "q1.check()"
   ]
  },
  {
   "cell_type": "code",
   "execution_count": 4,
   "id": "4e5e02be",
   "metadata": {
    "execution": {
     "iopub.execute_input": "2024-09-08T22:35:08.323648Z",
     "iopub.status.busy": "2024-09-08T22:35:08.323111Z",
     "iopub.status.idle": "2024-09-08T22:35:08.328590Z",
     "shell.execute_reply": "2024-09-08T22:35:08.327282Z"
    },
    "papermill": {
     "duration": 0.018793,
     "end_time": "2024-09-08T22:35:08.331434",
     "exception": false,
     "start_time": "2024-09-08T22:35:08.312641",
     "status": "completed"
    },
    "tags": []
   },
   "outputs": [],
   "source": [
    "#q1.hint()\n",
    "#q1.solution()"
   ]
  },
  {
   "cell_type": "markdown",
   "id": "deaaa403",
   "metadata": {
    "papermill": {
     "duration": 0.008621,
     "end_time": "2024-09-08T22:35:08.349089",
     "exception": false,
     "start_time": "2024-09-08T22:35:08.340468",
     "status": "completed"
    },
    "tags": []
   },
   "source": [
    "## 2.\n",
    "Set the index name in the dataset to `wines`."
   ]
  },
  {
   "cell_type": "code",
   "execution_count": 5,
   "id": "df8f7145",
   "metadata": {
    "execution": {
     "iopub.execute_input": "2024-09-08T22:35:08.369286Z",
     "iopub.status.busy": "2024-09-08T22:35:08.368533Z",
     "iopub.status.idle": "2024-09-08T22:35:08.398004Z",
     "shell.execute_reply": "2024-09-08T22:35:08.396790Z"
    },
    "papermill": {
     "duration": 0.043394,
     "end_time": "2024-09-08T22:35:08.401406",
     "exception": false,
     "start_time": "2024-09-08T22:35:08.358012",
     "status": "completed"
    },
    "tags": []
   },
   "outputs": [
    {
     "data": {
      "application/javascript": [
       "parent.postMessage({\"jupyterEvent\": \"custom.exercise_interaction\", \"data\": {\"outcomeType\": 1, \"valueTowardsCompletion\": 0.25, \"interactionType\": 1, \"questionType\": 1, \"questionId\": \"2_RenameIndex\", \"learnToolsVersion\": \"0.3.4\", \"failureMessage\": \"\", \"exceptionClass\": \"\", \"trace\": \"\"}}, \"*\")"
      ],
      "text/plain": [
       "<IPython.core.display.Javascript object>"
      ]
     },
     "metadata": {},
     "output_type": "display_data"
    },
    {
     "data": {
      "text/markdown": [
       "<span style=\"color:#33cc33\">Correct</span>"
      ],
      "text/plain": [
       "Correct"
      ]
     },
     "metadata": {},
     "output_type": "display_data"
    }
   ],
   "source": [
    "reindexed = reviews.rename_axis('wines', axis='rows')\n",
    "\n",
    "# Check your answer\n",
    "q2.check()"
   ]
  },
  {
   "cell_type": "code",
   "execution_count": 6,
   "id": "89c05654",
   "metadata": {
    "execution": {
     "iopub.execute_input": "2024-09-08T22:35:08.421805Z",
     "iopub.status.busy": "2024-09-08T22:35:08.421311Z",
     "iopub.status.idle": "2024-09-08T22:35:08.426713Z",
     "shell.execute_reply": "2024-09-08T22:35:08.425357Z"
    },
    "papermill": {
     "duration": 0.018645,
     "end_time": "2024-09-08T22:35:08.429269",
     "exception": false,
     "start_time": "2024-09-08T22:35:08.410624",
     "status": "completed"
    },
    "tags": []
   },
   "outputs": [],
   "source": [
    "#q2.hint()\n",
    "#q2.solution()"
   ]
  },
  {
   "cell_type": "markdown",
   "id": "2db818ea",
   "metadata": {
    "papermill": {
     "duration": 0.008859,
     "end_time": "2024-09-08T22:35:08.447881",
     "exception": false,
     "start_time": "2024-09-08T22:35:08.439022",
     "status": "completed"
    },
    "tags": []
   },
   "source": [
    "## 3.\n",
    "The [Things on Reddit](https://www.kaggle.com/residentmario/things-on-reddit/data) dataset includes product links from a selection of top-ranked forums (\"subreddits\") on reddit.com. Run the cell below to load a dataframe of products mentioned on the */r/gaming* subreddit and another dataframe for products mentioned on the *r//movies* subreddit."
   ]
  },
  {
   "cell_type": "code",
   "execution_count": 7,
   "id": "be053086",
   "metadata": {
    "execution": {
     "iopub.execute_input": "2024-09-08T22:35:08.469053Z",
     "iopub.status.busy": "2024-09-08T22:35:08.468439Z",
     "iopub.status.idle": "2024-09-08T22:35:08.486638Z",
     "shell.execute_reply": "2024-09-08T22:35:08.485306Z"
    },
    "papermill": {
     "duration": 0.032475,
     "end_time": "2024-09-08T22:35:08.489961",
     "exception": false,
     "start_time": "2024-09-08T22:35:08.457486",
     "status": "completed"
    },
    "tags": []
   },
   "outputs": [],
   "source": [
    "gaming_products = pd.read_csv(\"../input/things-on-reddit/top-things/top-things/reddits/g/gaming.csv\")\n",
    "gaming_products['subreddit'] = \"r/gaming\"\n",
    "movie_products = pd.read_csv(\"../input/things-on-reddit/top-things/top-things/reddits/m/movies.csv\")\n",
    "movie_products['subreddit'] = \"r/movies\""
   ]
  },
  {
   "cell_type": "markdown",
   "id": "dd40e4cf",
   "metadata": {
    "papermill": {
     "duration": 0.008881,
     "end_time": "2024-09-08T22:35:08.508093",
     "exception": false,
     "start_time": "2024-09-08T22:35:08.499212",
     "status": "completed"
    },
    "tags": []
   },
   "source": [
    "Create a `DataFrame` of products mentioned on *either* subreddit."
   ]
  },
  {
   "cell_type": "code",
   "execution_count": 8,
   "id": "c777947b",
   "metadata": {
    "execution": {
     "iopub.execute_input": "2024-09-08T22:35:08.529642Z",
     "iopub.status.busy": "2024-09-08T22:35:08.528266Z",
     "iopub.status.idle": "2024-09-08T22:35:08.542745Z",
     "shell.execute_reply": "2024-09-08T22:35:08.541525Z"
    },
    "papermill": {
     "duration": 0.028133,
     "end_time": "2024-09-08T22:35:08.545444",
     "exception": false,
     "start_time": "2024-09-08T22:35:08.517311",
     "status": "completed"
    },
    "tags": []
   },
   "outputs": [
    {
     "data": {
      "application/javascript": [
       "parent.postMessage({\"jupyterEvent\": \"custom.exercise_interaction\", \"data\": {\"outcomeType\": 1, \"valueTowardsCompletion\": 0.25, \"interactionType\": 1, \"questionType\": 2, \"questionId\": \"3_ConcatReddit\", \"learnToolsVersion\": \"0.3.4\", \"failureMessage\": \"\", \"exceptionClass\": \"\", \"trace\": \"\"}}, \"*\")"
      ],
      "text/plain": [
       "<IPython.core.display.Javascript object>"
      ]
     },
     "metadata": {},
     "output_type": "display_data"
    },
    {
     "data": {
      "text/markdown": [
       "<span style=\"color:#33cc33\">Correct</span>"
      ],
      "text/plain": [
       "Correct"
      ]
     },
     "metadata": {},
     "output_type": "display_data"
    }
   ],
   "source": [
    "combined_products = pd.concat([gaming_products, movie_products])\n",
    "\n",
    "# Check your answer\n",
    "q3.check()"
   ]
  },
  {
   "cell_type": "code",
   "execution_count": 9,
   "id": "6ab9fa13",
   "metadata": {
    "execution": {
     "iopub.execute_input": "2024-09-08T22:35:08.567423Z",
     "iopub.status.busy": "2024-09-08T22:35:08.566882Z",
     "iopub.status.idle": "2024-09-08T22:35:08.572593Z",
     "shell.execute_reply": "2024-09-08T22:35:08.571135Z"
    },
    "papermill": {
     "duration": 0.020197,
     "end_time": "2024-09-08T22:35:08.575395",
     "exception": false,
     "start_time": "2024-09-08T22:35:08.555198",
     "status": "completed"
    },
    "tags": []
   },
   "outputs": [],
   "source": [
    "#q3.hint()\n",
    "#q3.solution()"
   ]
  },
  {
   "cell_type": "markdown",
   "id": "25a6846d",
   "metadata": {
    "papermill": {
     "duration": 0.009083,
     "end_time": "2024-09-08T22:35:08.594152",
     "exception": false,
     "start_time": "2024-09-08T22:35:08.585069",
     "status": "completed"
    },
    "tags": []
   },
   "source": [
    "## 4.\n",
    "The [Powerlifting Database](https://www.kaggle.com/open-powerlifting/powerlifting-database) dataset on Kaggle includes one CSV table for powerlifting meets and a separate one for powerlifting competitors. Run the cell below to load these datasets into dataframes:"
   ]
  },
  {
   "cell_type": "code",
   "execution_count": 10,
   "id": "f2917a30",
   "metadata": {
    "execution": {
     "iopub.execute_input": "2024-09-08T22:35:08.615300Z",
     "iopub.status.busy": "2024-09-08T22:35:08.614751Z",
     "iopub.status.idle": "2024-09-08T22:35:09.778969Z",
     "shell.execute_reply": "2024-09-08T22:35:09.777518Z"
    },
    "papermill": {
     "duration": 1.178837,
     "end_time": "2024-09-08T22:35:09.782527",
     "exception": false,
     "start_time": "2024-09-08T22:35:08.603690",
     "status": "completed"
    },
    "tags": []
   },
   "outputs": [],
   "source": [
    "powerlifting_meets = pd.read_csv(\"../input/powerlifting-database/meets.csv\")\n",
    "powerlifting_competitors = pd.read_csv(\"../input/powerlifting-database/openpowerlifting.csv\")"
   ]
  },
  {
   "cell_type": "markdown",
   "id": "c3ca6242",
   "metadata": {
    "papermill": {
     "duration": 0.00956,
     "end_time": "2024-09-08T22:35:09.801939",
     "exception": false,
     "start_time": "2024-09-08T22:35:09.792379",
     "status": "completed"
    },
    "tags": []
   },
   "source": [
    "Both tables include references to a `MeetID`, a unique key for each meet (competition) included in the database. Using this, generate a dataset combining the two tables into one."
   ]
  },
  {
   "cell_type": "code",
   "execution_count": 11,
   "id": "a558c1a8",
   "metadata": {
    "execution": {
     "iopub.execute_input": "2024-09-08T22:35:09.823779Z",
     "iopub.status.busy": "2024-09-08T22:35:09.822701Z",
     "iopub.status.idle": "2024-09-08T22:35:11.214738Z",
     "shell.execute_reply": "2024-09-08T22:35:11.213482Z"
    },
    "papermill": {
     "duration": 1.406927,
     "end_time": "2024-09-08T22:35:11.218411",
     "exception": false,
     "start_time": "2024-09-08T22:35:09.811484",
     "status": "completed"
    },
    "tags": []
   },
   "outputs": [
    {
     "data": {
      "application/javascript": [
       "parent.postMessage({\"jupyterEvent\": \"custom.exercise_interaction\", \"data\": {\"outcomeType\": 1, \"valueTowardsCompletion\": 0.25, \"interactionType\": 1, \"questionType\": 2, \"questionId\": \"4_JoinLifting\", \"learnToolsVersion\": \"0.3.4\", \"failureMessage\": \"\", \"exceptionClass\": \"\", \"trace\": \"\"}}, \"*\")"
      ],
      "text/plain": [
       "<IPython.core.display.Javascript object>"
      ]
     },
     "metadata": {},
     "output_type": "display_data"
    },
    {
     "data": {
      "text/markdown": [
       "<span style=\"color:#33cc33\">Correct</span>"
      ],
      "text/plain": [
       "Correct"
      ]
     },
     "metadata": {},
     "output_type": "display_data"
    }
   ],
   "source": [
    "powerlifting_combined = powerlifting_meets.set_index(\"MeetID\").join(powerlifting_competitors.set_index(\"MeetID\"))\n",
    "\n",
    "# Check your answer\n",
    "q4.check()"
   ]
  },
  {
   "cell_type": "code",
   "execution_count": 12,
   "id": "d0dea9d8",
   "metadata": {
    "execution": {
     "iopub.execute_input": "2024-09-08T22:35:11.240776Z",
     "iopub.status.busy": "2024-09-08T22:35:11.240234Z",
     "iopub.status.idle": "2024-09-08T22:35:11.245549Z",
     "shell.execute_reply": "2024-09-08T22:35:11.244420Z"
    },
    "papermill": {
     "duration": 0.019353,
     "end_time": "2024-09-08T22:35:11.247993",
     "exception": false,
     "start_time": "2024-09-08T22:35:11.228640",
     "status": "completed"
    },
    "tags": []
   },
   "outputs": [],
   "source": [
    "#q4.hint()\n",
    "#q4.solution()"
   ]
  },
  {
   "cell_type": "markdown",
   "id": "2ea6e048",
   "metadata": {
    "papermill": {
     "duration": 0.009271,
     "end_time": "2024-09-08T22:35:11.266912",
     "exception": false,
     "start_time": "2024-09-08T22:35:11.257641",
     "status": "completed"
    },
    "tags": []
   },
   "source": [
    "# Congratulations!\n",
    "\n",
    "You've finished the Pandas micro-course.  Many data scientists feel efficiency with Pandas is the most useful and practical skill they have, because it allows you to progress quickly in any project you have.\n",
    "\n",
    "If you'd like to apply your new skills to examining geospatial data, you're encouraged to check out our **[Geospatial Analysis](https://www.kaggle.com/learn/geospatial-analysis)** micro-course.\n",
    "\n",
    "You can also take advantage of your Pandas skills by entering a **[Kaggle Competition](https://www.kaggle.com/competitions)** or by answering a question you find interesting using **[Kaggle Datasets](https://www.kaggle.com/datasets)**."
   ]
  },
  {
   "cell_type": "markdown",
   "id": "ea7b82c8",
   "metadata": {
    "papermill": {
     "duration": 0.009193,
     "end_time": "2024-09-08T22:35:11.285880",
     "exception": false,
     "start_time": "2024-09-08T22:35:11.276687",
     "status": "completed"
    },
    "tags": []
   },
   "source": [
    "---\n",
    "\n",
    "\n",
    "\n",
    "\n",
    "*Have questions or comments? Visit the [course discussion forum](https://www.kaggle.com/learn/pandas/discussion) to chat with other learners.*"
   ]
  }
 ],
 "metadata": {
  "kaggle": {
   "accelerator": "none",
   "dataSources": [
    {
     "datasetId": 655,
     "sourceId": 1252,
     "sourceType": "datasetVersion"
    },
    {
     "datasetId": 2321,
     "sourceId": 3919,
     "sourceType": "datasetVersion"
    },
    {
     "datasetId": 2894,
     "sourceId": 4877,
     "sourceType": "datasetVersion"
    },
    {
     "datasetId": 3491,
     "sourceId": 5624,
     "sourceType": "datasetVersion"
    },
    {
     "datasetId": 1442,
     "sourceId": 8172,
     "sourceType": "datasetVersion"
    },
    {
     "datasetId": 9366,
     "sourceId": 13206,
     "sourceType": "datasetVersion"
    },
    {
     "datasetId": 179555,
     "sourceId": 403916,
     "sourceType": "datasetVersion"
    },
    {
     "datasetId": 4549,
     "sourceId": 466349,
     "sourceType": "datasetVersion"
    },
    {
     "datasetId": 2478,
     "sourceId": 1151655,
     "sourceType": "datasetVersion"
    },
    {
     "datasetId": 10128,
     "sourceId": 5438389,
     "sourceType": "datasetVersion"
    }
   ],
   "isGpuEnabled": false,
   "isInternetEnabled": false,
   "language": "python",
   "sourceType": "notebook"
  },
  "kernelspec": {
   "display_name": "Python 3",
   "language": "python",
   "name": "python3"
  },
  "language_info": {
   "codemirror_mode": {
    "name": "ipython",
    "version": 3
   },
   "file_extension": ".py",
   "mimetype": "text/x-python",
   "name": "python",
   "nbconvert_exporter": "python",
   "pygments_lexer": "ipython3",
   "version": "3.10.14"
  },
  "papermill": {
   "default_parameters": {},
   "duration": 13.272999,
   "end_time": "2024-09-08T22:35:12.120012",
   "environment_variables": {},
   "exception": null,
   "input_path": "__notebook__.ipynb",
   "output_path": "__notebook__.ipynb",
   "parameters": {},
   "start_time": "2024-09-08T22:34:58.847013",
   "version": "2.6.0"
  }
 },
 "nbformat": 4,
 "nbformat_minor": 5
}
