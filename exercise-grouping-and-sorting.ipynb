{
 "cells": [
  {
   "cell_type": "markdown",
   "id": "3cbf278f",
   "metadata": {
    "papermill": {
     "duration": 0.00643,
     "end_time": "2024-09-08T22:21:19.664484",
     "exception": false,
     "start_time": "2024-09-08T22:21:19.658054",
     "status": "completed"
    },
    "tags": []
   },
   "source": [
    "**This notebook is an exercise in the [Pandas](https://www.kaggle.com/learn/pandas) course.  You can reference the tutorial at [this link](https://www.kaggle.com/residentmario/grouping-and-sorting).**\n",
    "\n",
    "---\n"
   ]
  },
  {
   "cell_type": "markdown",
   "id": "3c18c03c",
   "metadata": {
    "papermill": {
     "duration": 0.005399,
     "end_time": "2024-09-08T22:21:19.675736",
     "exception": false,
     "start_time": "2024-09-08T22:21:19.670337",
     "status": "completed"
    },
    "tags": []
   },
   "source": [
    "# Introduction\n",
    "\n",
    "In these exercises we'll apply groupwise analysis to our dataset.\n",
    "\n",
    "Run the code cell below to load the data before running the exercises."
   ]
  },
  {
   "cell_type": "code",
   "execution_count": 1,
   "id": "33c9885b",
   "metadata": {
    "execution": {
     "iopub.execute_input": "2024-09-08T22:21:19.688606Z",
     "iopub.status.busy": "2024-09-08T22:21:19.688198Z",
     "iopub.status.idle": "2024-09-08T22:21:23.081381Z",
     "shell.execute_reply": "2024-09-08T22:21:23.080278Z"
    },
    "papermill": {
     "duration": 3.40289,
     "end_time": "2024-09-08T22:21:23.084180",
     "exception": false,
     "start_time": "2024-09-08T22:21:19.681290",
     "status": "completed"
    },
    "tags": []
   },
   "outputs": [
    {
     "name": "stdout",
     "output_type": "stream",
     "text": [
      "Setup complete.\n"
     ]
    },
    {
     "name": "stderr",
     "output_type": "stream",
     "text": [
      "/opt/conda/lib/python3.10/site-packages/learntools/pandas/grouping_and_sorting.py:29: FutureWarning: The provided callable <built-in function min> is currently using SeriesGroupBy.min. In a future version of pandas, the provided callable will be used directly. To keep current behavior pass the string \"min\" instead.\n",
      "  _expected = reviews.groupby('variety').price.agg([min, max])\n",
      "/opt/conda/lib/python3.10/site-packages/learntools/pandas/grouping_and_sorting.py:29: FutureWarning: The provided callable <built-in function max> is currently using SeriesGroupBy.max. In a future version of pandas, the provided callable will be used directly. To keep current behavior pass the string \"max\" instead.\n",
      "  _expected = reviews.groupby('variety').price.agg([min, max])\n",
      "/opt/conda/lib/python3.10/site-packages/learntools/pandas/grouping_and_sorting.py:35: FutureWarning: The provided callable <built-in function min> is currently using SeriesGroupBy.min. In a future version of pandas, the provided callable will be used directly. To keep current behavior pass the string \"min\" instead.\n",
      "  _expected = reviews.groupby('variety').price.agg([min, max]).sort_values(by=['min', 'max'], ascending=False)\n",
      "/opt/conda/lib/python3.10/site-packages/learntools/pandas/grouping_and_sorting.py:35: FutureWarning: The provided callable <built-in function max> is currently using SeriesGroupBy.max. In a future version of pandas, the provided callable will be used directly. To keep current behavior pass the string \"max\" instead.\n",
      "  _expected = reviews.groupby('variety').price.agg([min, max]).sort_values(by=['min', 'max'], ascending=False)\n"
     ]
    }
   ],
   "source": [
    "import pandas as pd\n",
    "\n",
    "reviews = pd.read_csv(\"../input/wine-reviews/winemag-data-130k-v2.csv\", index_col=0)\n",
    "#pd.set_option(\"display.max_rows\", 5)\n",
    "\n",
    "from learntools.core import binder; binder.bind(globals())\n",
    "from learntools.pandas.grouping_and_sorting import *\n",
    "print(\"Setup complete.\")"
   ]
  },
  {
   "cell_type": "markdown",
   "id": "35cf3ed7",
   "metadata": {
    "papermill": {
     "duration": 0.005686,
     "end_time": "2024-09-08T22:21:23.095900",
     "exception": false,
     "start_time": "2024-09-08T22:21:23.090214",
     "status": "completed"
    },
    "tags": []
   },
   "source": [
    "# Exercises"
   ]
  },
  {
   "cell_type": "markdown",
   "id": "62ff7ba8",
   "metadata": {
    "papermill": {
     "duration": 0.006029,
     "end_time": "2024-09-08T22:21:23.108213",
     "exception": false,
     "start_time": "2024-09-08T22:21:23.102184",
     "status": "completed"
    },
    "tags": []
   },
   "source": [
    "## 1.\n",
    "Who are the most common wine reviewers in the dataset? Create a `Series` whose index is the `taster_twitter_handle` category from the dataset, and whose values count how many reviews each person wrote."
   ]
  },
  {
   "cell_type": "code",
   "execution_count": 2,
   "id": "c88447f6",
   "metadata": {
    "execution": {
     "iopub.execute_input": "2024-09-08T22:21:23.122470Z",
     "iopub.status.busy": "2024-09-08T22:21:23.121692Z",
     "iopub.status.idle": "2024-09-08T22:21:23.144116Z",
     "shell.execute_reply": "2024-09-08T22:21:23.143068Z"
    },
    "papermill": {
     "duration": 0.032176,
     "end_time": "2024-09-08T22:21:23.146395",
     "exception": false,
     "start_time": "2024-09-08T22:21:23.114219",
     "status": "completed"
    },
    "tags": []
   },
   "outputs": [
    {
     "data": {
      "application/javascript": [
       "parent.postMessage({\"jupyterEvent\": \"custom.exercise_interaction\", \"data\": {\"outcomeType\": 1, \"valueTowardsCompletion\": 0.16666666666666666, \"interactionType\": 1, \"questionType\": 1, \"questionId\": \"1_ReviewsWritten\", \"learnToolsVersion\": \"0.3.4\", \"failureMessage\": \"\", \"exceptionClass\": \"\", \"trace\": \"\"}}, \"*\")"
      ],
      "text/plain": [
       "<IPython.core.display.Javascript object>"
      ]
     },
     "metadata": {},
     "output_type": "display_data"
    },
    {
     "data": {
      "text/markdown": [
       "<span style=\"color:#33cc33\">Correct:</span> \n",
       "\n",
       "\n",
       "```python\n",
       "reviews_written = reviews.groupby('taster_twitter_handle').size()\n",
       "```\n",
       "or\n",
       "```python\n",
       "reviews_written = reviews.groupby('taster_twitter_handle').taster_twitter_handle.count()\n",
       "```\n"
      ],
      "text/plain": [
       "Correct: \n",
       "\n",
       "\n",
       "```python\n",
       "reviews_written = reviews.groupby('taster_twitter_handle').size()\n",
       "```\n",
       "or\n",
       "```python\n",
       "reviews_written = reviews.groupby('taster_twitter_handle').taster_twitter_handle.count()\n",
       "```"
      ]
     },
     "metadata": {},
     "output_type": "display_data"
    }
   ],
   "source": [
    "# Your code here\n",
    "reviews_written = reviews.groupby('taster_twitter_handle').size()\n",
    "\n",
    "# Check your answer\n",
    "q1.check()"
   ]
  },
  {
   "cell_type": "code",
   "execution_count": 3,
   "id": "7f5a86b0",
   "metadata": {
    "execution": {
     "iopub.execute_input": "2024-09-08T22:21:23.160673Z",
     "iopub.status.busy": "2024-09-08T22:21:23.160247Z",
     "iopub.status.idle": "2024-09-08T22:21:23.164795Z",
     "shell.execute_reply": "2024-09-08T22:21:23.163683Z"
    },
    "papermill": {
     "duration": 0.014557,
     "end_time": "2024-09-08T22:21:23.167229",
     "exception": false,
     "start_time": "2024-09-08T22:21:23.152672",
     "status": "completed"
    },
    "tags": []
   },
   "outputs": [],
   "source": [
    "#q1.hint()\n",
    "#q1.solution()"
   ]
  },
  {
   "cell_type": "markdown",
   "id": "1859b29f",
   "metadata": {
    "papermill": {
     "duration": 0.00633,
     "end_time": "2024-09-08T22:21:23.180168",
     "exception": false,
     "start_time": "2024-09-08T22:21:23.173838",
     "status": "completed"
    },
    "tags": []
   },
   "source": [
    "## 2.\n",
    "What is the best wine I can buy for a given amount of money? Create a `Series` whose index is wine prices and whose values is the maximum number of points a wine costing that much was given in a review. Sort the values by price, ascending (so that `4.0` dollars is at the top and `3300.0` dollars is at the bottom)."
   ]
  },
  {
   "cell_type": "code",
   "execution_count": 4,
   "id": "8d24ef58",
   "metadata": {
    "execution": {
     "iopub.execute_input": "2024-09-08T22:21:23.194496Z",
     "iopub.status.busy": "2024-09-08T22:21:23.194125Z",
     "iopub.status.idle": "2024-09-08T22:21:23.208755Z",
     "shell.execute_reply": "2024-09-08T22:21:23.207572Z"
    },
    "papermill": {
     "duration": 0.024479,
     "end_time": "2024-09-08T22:21:23.211124",
     "exception": false,
     "start_time": "2024-09-08T22:21:23.186645",
     "status": "completed"
    },
    "tags": []
   },
   "outputs": [
    {
     "data": {
      "application/javascript": [
       "parent.postMessage({\"jupyterEvent\": \"custom.exercise_interaction\", \"data\": {\"outcomeType\": 1, \"valueTowardsCompletion\": 0.16666666666666666, \"interactionType\": 1, \"questionType\": 1, \"questionId\": \"2_BestRatingPerPrice\", \"learnToolsVersion\": \"0.3.4\", \"failureMessage\": \"\", \"exceptionClass\": \"\", \"trace\": \"\"}}, \"*\")"
      ],
      "text/plain": [
       "<IPython.core.display.Javascript object>"
      ]
     },
     "metadata": {},
     "output_type": "display_data"
    },
    {
     "data": {
      "text/markdown": [
       "<span style=\"color:#33cc33\">Correct</span>"
      ],
      "text/plain": [
       "Correct"
      ]
     },
     "metadata": {},
     "output_type": "display_data"
    }
   ],
   "source": [
    "best_rating_per_price = reviews.groupby('price')['points'].max().sort_index()\n",
    "\n",
    "# Check your answer\n",
    "q2.check()"
   ]
  },
  {
   "cell_type": "code",
   "execution_count": 5,
   "id": "359645e4",
   "metadata": {
    "execution": {
     "iopub.execute_input": "2024-09-08T22:21:23.225727Z",
     "iopub.status.busy": "2024-09-08T22:21:23.225309Z",
     "iopub.status.idle": "2024-09-08T22:21:23.230017Z",
     "shell.execute_reply": "2024-09-08T22:21:23.228781Z"
    },
    "papermill": {
     "duration": 0.0146,
     "end_time": "2024-09-08T22:21:23.232309",
     "exception": false,
     "start_time": "2024-09-08T22:21:23.217709",
     "status": "completed"
    },
    "tags": []
   },
   "outputs": [],
   "source": [
    "#q2.hint()\n",
    "#q2.solution()"
   ]
  },
  {
   "cell_type": "markdown",
   "id": "102ba96b",
   "metadata": {
    "papermill": {
     "duration": 0.00611,
     "end_time": "2024-09-08T22:21:23.244984",
     "exception": false,
     "start_time": "2024-09-08T22:21:23.238874",
     "status": "completed"
    },
    "tags": []
   },
   "source": [
    "## 3.\n",
    "What are the minimum and maximum prices for each `variety` of wine? Create a `DataFrame` whose index is the `variety` category from the dataset and whose values are the `min` and `max` values thereof."
   ]
  },
  {
   "cell_type": "code",
   "execution_count": 6,
   "id": "606f65f0",
   "metadata": {
    "execution": {
     "iopub.execute_input": "2024-09-08T22:21:23.259626Z",
     "iopub.status.busy": "2024-09-08T22:21:23.259212Z",
     "iopub.status.idle": "2024-09-08T22:21:23.286343Z",
     "shell.execute_reply": "2024-09-08T22:21:23.285298Z"
    },
    "papermill": {
     "duration": 0.037436,
     "end_time": "2024-09-08T22:21:23.288961",
     "exception": false,
     "start_time": "2024-09-08T22:21:23.251525",
     "status": "completed"
    },
    "tags": []
   },
   "outputs": [
    {
     "name": "stderr",
     "output_type": "stream",
     "text": [
      "/tmp/ipykernel_17/4085108108.py:1: FutureWarning: The provided callable <built-in function min> is currently using SeriesGroupBy.min. In a future version of pandas, the provided callable will be used directly. To keep current behavior pass the string \"min\" instead.\n",
      "  price_extremes = reviews.groupby('variety').price.agg([min, max])\n",
      "/tmp/ipykernel_17/4085108108.py:1: FutureWarning: The provided callable <built-in function max> is currently using SeriesGroupBy.max. In a future version of pandas, the provided callable will be used directly. To keep current behavior pass the string \"max\" instead.\n",
      "  price_extremes = reviews.groupby('variety').price.agg([min, max])\n"
     ]
    },
    {
     "data": {
      "application/javascript": [
       "parent.postMessage({\"jupyterEvent\": \"custom.exercise_interaction\", \"data\": {\"outcomeType\": 1, \"valueTowardsCompletion\": 0.16666666666666666, \"interactionType\": 1, \"questionType\": 1, \"questionId\": \"3_PriceExtremes\", \"learnToolsVersion\": \"0.3.4\", \"failureMessage\": \"\", \"exceptionClass\": \"\", \"trace\": \"\"}}, \"*\")"
      ],
      "text/plain": [
       "<IPython.core.display.Javascript object>"
      ]
     },
     "metadata": {},
     "output_type": "display_data"
    },
    {
     "data": {
      "text/markdown": [
       "<span style=\"color:#33cc33\">Correct</span>"
      ],
      "text/plain": [
       "Correct"
      ]
     },
     "metadata": {},
     "output_type": "display_data"
    }
   ],
   "source": [
    "price_extremes = reviews.groupby('variety').price.agg([min, max])\n",
    "\n",
    "# Check your answer\n",
    "q3.check()"
   ]
  },
  {
   "cell_type": "code",
   "execution_count": 7,
   "id": "73f44a11",
   "metadata": {
    "execution": {
     "iopub.execute_input": "2024-09-08T22:21:23.304546Z",
     "iopub.status.busy": "2024-09-08T22:21:23.303483Z",
     "iopub.status.idle": "2024-09-08T22:21:23.308362Z",
     "shell.execute_reply": "2024-09-08T22:21:23.307342Z"
    },
    "papermill": {
     "duration": 0.014726,
     "end_time": "2024-09-08T22:21:23.310360",
     "exception": false,
     "start_time": "2024-09-08T22:21:23.295634",
     "status": "completed"
    },
    "tags": []
   },
   "outputs": [],
   "source": [
    "#q3.hint()\n",
    "#q3.solution()"
   ]
  },
  {
   "cell_type": "markdown",
   "id": "5d45b71c",
   "metadata": {
    "papermill": {
     "duration": 0.006498,
     "end_time": "2024-09-08T22:21:23.323835",
     "exception": false,
     "start_time": "2024-09-08T22:21:23.317337",
     "status": "completed"
    },
    "tags": []
   },
   "source": [
    "## 4.\n",
    "What are the most expensive wine varieties? Create a variable `sorted_varieties` containing a copy of the dataframe from the previous question where varieties are sorted in descending order based on minimum price, then on maximum price (to break ties)."
   ]
  },
  {
   "cell_type": "code",
   "execution_count": 8,
   "id": "7e26b0af",
   "metadata": {
    "execution": {
     "iopub.execute_input": "2024-09-08T22:21:23.339202Z",
     "iopub.status.busy": "2024-09-08T22:21:23.338280Z",
     "iopub.status.idle": "2024-09-08T22:21:23.349633Z",
     "shell.execute_reply": "2024-09-08T22:21:23.348618Z"
    },
    "papermill": {
     "duration": 0.021324,
     "end_time": "2024-09-08T22:21:23.351761",
     "exception": false,
     "start_time": "2024-09-08T22:21:23.330437",
     "status": "completed"
    },
    "tags": []
   },
   "outputs": [
    {
     "data": {
      "application/javascript": [
       "parent.postMessage({\"jupyterEvent\": \"custom.exercise_interaction\", \"data\": {\"outcomeType\": 1, \"valueTowardsCompletion\": 0.16666666666666666, \"interactionType\": 1, \"questionType\": 1, \"questionId\": \"4_SortedVarieties\", \"learnToolsVersion\": \"0.3.4\", \"failureMessage\": \"\", \"exceptionClass\": \"\", \"trace\": \"\"}}, \"*\")"
      ],
      "text/plain": [
       "<IPython.core.display.Javascript object>"
      ]
     },
     "metadata": {},
     "output_type": "display_data"
    },
    {
     "data": {
      "text/markdown": [
       "<span style=\"color:#33cc33\">Correct</span>"
      ],
      "text/plain": [
       "Correct"
      ]
     },
     "metadata": {},
     "output_type": "display_data"
    }
   ],
   "source": [
    "sorted_varieties = price_extremes.sort_values(by=['min', 'max'], ascending=False)\n",
    "\n",
    "# Check your answer\n",
    "q4.check()"
   ]
  },
  {
   "cell_type": "code",
   "execution_count": 9,
   "id": "f170c97c",
   "metadata": {
    "execution": {
     "iopub.execute_input": "2024-09-08T22:21:23.367630Z",
     "iopub.status.busy": "2024-09-08T22:21:23.367233Z",
     "iopub.status.idle": "2024-09-08T22:21:23.371746Z",
     "shell.execute_reply": "2024-09-08T22:21:23.370624Z"
    },
    "papermill": {
     "duration": 0.01501,
     "end_time": "2024-09-08T22:21:23.373921",
     "exception": false,
     "start_time": "2024-09-08T22:21:23.358911",
     "status": "completed"
    },
    "tags": []
   },
   "outputs": [],
   "source": [
    "#q4.hint()\n",
    "#q4.solution()"
   ]
  },
  {
   "cell_type": "markdown",
   "id": "8597d8d6",
   "metadata": {
    "papermill": {
     "duration": 0.006688,
     "end_time": "2024-09-08T22:21:23.387720",
     "exception": false,
     "start_time": "2024-09-08T22:21:23.381032",
     "status": "completed"
    },
    "tags": []
   },
   "source": [
    "## 5.\n",
    "Create a `Series` whose index is reviewers and whose values is the average review score given out by that reviewer. Hint: you will need the `taster_name` and `points` columns."
   ]
  },
  {
   "cell_type": "code",
   "execution_count": 10,
   "id": "5e2e7284",
   "metadata": {
    "execution": {
     "iopub.execute_input": "2024-09-08T22:21:23.403755Z",
     "iopub.status.busy": "2024-09-08T22:21:23.403349Z",
     "iopub.status.idle": "2024-09-08T22:21:23.424960Z",
     "shell.execute_reply": "2024-09-08T22:21:23.423896Z"
    },
    "papermill": {
     "duration": 0.032203,
     "end_time": "2024-09-08T22:21:23.427088",
     "exception": false,
     "start_time": "2024-09-08T22:21:23.394885",
     "status": "completed"
    },
    "tags": []
   },
   "outputs": [
    {
     "data": {
      "application/javascript": [
       "parent.postMessage({\"jupyterEvent\": \"custom.exercise_interaction\", \"data\": {\"outcomeType\": 1, \"valueTowardsCompletion\": 0.16666666666666666, \"interactionType\": 1, \"questionType\": 1, \"questionId\": \"5_ReviewerMeanRatings\", \"learnToolsVersion\": \"0.3.4\", \"failureMessage\": \"\", \"exceptionClass\": \"\", \"trace\": \"\"}}, \"*\")"
      ],
      "text/plain": [
       "<IPython.core.display.Javascript object>"
      ]
     },
     "metadata": {},
     "output_type": "display_data"
    },
    {
     "data": {
      "text/markdown": [
       "<span style=\"color:#33cc33\">Correct</span>"
      ],
      "text/plain": [
       "Correct"
      ]
     },
     "metadata": {},
     "output_type": "display_data"
    }
   ],
   "source": [
    "reviewer_mean_ratings = reviews.groupby('taster_name').points.mean()\n",
    "\n",
    "# Check your answer\n",
    "q5.check()"
   ]
  },
  {
   "cell_type": "code",
   "execution_count": 11,
   "id": "e663eaab",
   "metadata": {
    "execution": {
     "iopub.execute_input": "2024-09-08T22:21:23.442896Z",
     "iopub.status.busy": "2024-09-08T22:21:23.442487Z",
     "iopub.status.idle": "2024-09-08T22:21:23.446839Z",
     "shell.execute_reply": "2024-09-08T22:21:23.445773Z"
    },
    "papermill": {
     "duration": 0.014801,
     "end_time": "2024-09-08T22:21:23.448990",
     "exception": false,
     "start_time": "2024-09-08T22:21:23.434189",
     "status": "completed"
    },
    "tags": []
   },
   "outputs": [],
   "source": [
    "#q5.hint()\n",
    "#q5.solution()"
   ]
  },
  {
   "cell_type": "markdown",
   "id": "84fbb11c",
   "metadata": {
    "papermill": {
     "duration": 0.007245,
     "end_time": "2024-09-08T22:21:23.463494",
     "exception": false,
     "start_time": "2024-09-08T22:21:23.456249",
     "status": "completed"
    },
    "tags": []
   },
   "source": [
    "Are there significant differences in the average scores assigned by the various reviewers? Run the cell below to use the `describe()` method to see a summary of the range of values."
   ]
  },
  {
   "cell_type": "code",
   "execution_count": 12,
   "id": "9fa5faff",
   "metadata": {
    "execution": {
     "iopub.execute_input": "2024-09-08T22:21:23.479155Z",
     "iopub.status.busy": "2024-09-08T22:21:23.478784Z",
     "iopub.status.idle": "2024-09-08T22:21:23.489486Z",
     "shell.execute_reply": "2024-09-08T22:21:23.488464Z"
    },
    "papermill": {
     "duration": 0.020966,
     "end_time": "2024-09-08T22:21:23.491482",
     "exception": false,
     "start_time": "2024-09-08T22:21:23.470516",
     "status": "completed"
    },
    "tags": []
   },
   "outputs": [
    {
     "data": {
      "text/plain": [
       "count    19.000000\n",
       "mean     88.233026\n",
       "std       1.243610\n",
       "min      85.855422\n",
       "25%      87.323501\n",
       "50%      88.536235\n",
       "75%      88.975256\n",
       "max      90.562551\n",
       "Name: points, dtype: float64"
      ]
     },
     "execution_count": 12,
     "metadata": {},
     "output_type": "execute_result"
    }
   ],
   "source": [
    "reviewer_mean_ratings.describe()"
   ]
  },
  {
   "cell_type": "markdown",
   "id": "65d4bae8",
   "metadata": {
    "papermill": {
     "duration": 0.007058,
     "end_time": "2024-09-08T22:21:23.505905",
     "exception": false,
     "start_time": "2024-09-08T22:21:23.498847",
     "status": "completed"
    },
    "tags": []
   },
   "source": [
    "## 6.\n",
    "What combination of countries and varieties are most common? Create a `Series` whose index is a `MultiIndex`of `{country, variety}` pairs. For example, a pinot noir produced in the US should map to `{\"US\", \"Pinot Noir\"}`. Sort the values in the `Series` in descending order based on wine count."
   ]
  },
  {
   "cell_type": "code",
   "execution_count": 13,
   "id": "74781342",
   "metadata": {
    "execution": {
     "iopub.execute_input": "2024-09-08T22:21:23.521958Z",
     "iopub.status.busy": "2024-09-08T22:21:23.521568Z",
     "iopub.status.idle": "2024-09-08T22:21:23.557844Z",
     "shell.execute_reply": "2024-09-08T22:21:23.556820Z"
    },
    "papermill": {
     "duration": 0.047452,
     "end_time": "2024-09-08T22:21:23.560563",
     "exception": false,
     "start_time": "2024-09-08T22:21:23.513111",
     "status": "completed"
    },
    "tags": []
   },
   "outputs": [
    {
     "data": {
      "application/javascript": [
       "parent.postMessage({\"jupyterEvent\": \"custom.exercise_interaction\", \"data\": {\"outcomeType\": 1, \"valueTowardsCompletion\": 0.16666666666666666, \"interactionType\": 1, \"questionType\": 1, \"questionId\": \"6_GroupbyCountryVariety\", \"learnToolsVersion\": \"0.3.4\", \"failureMessage\": \"\", \"exceptionClass\": \"\", \"trace\": \"\"}}, \"*\")"
      ],
      "text/plain": [
       "<IPython.core.display.Javascript object>"
      ]
     },
     "metadata": {},
     "output_type": "display_data"
    },
    {
     "data": {
      "text/markdown": [
       "<span style=\"color:#33cc33\">Correct</span>"
      ],
      "text/plain": [
       "Correct"
      ]
     },
     "metadata": {},
     "output_type": "display_data"
    }
   ],
   "source": [
    "country_variety_counts = reviews.groupby(['country', 'variety']).size().sort_values(ascending=False)\n",
    "\n",
    "# Check your answer\n",
    "q6.check()"
   ]
  },
  {
   "cell_type": "code",
   "execution_count": 14,
   "id": "c5b098c6",
   "metadata": {
    "execution": {
     "iopub.execute_input": "2024-09-08T22:21:23.577576Z",
     "iopub.status.busy": "2024-09-08T22:21:23.577172Z",
     "iopub.status.idle": "2024-09-08T22:21:23.581460Z",
     "shell.execute_reply": "2024-09-08T22:21:23.580322Z"
    },
    "papermill": {
     "duration": 0.015324,
     "end_time": "2024-09-08T22:21:23.583574",
     "exception": false,
     "start_time": "2024-09-08T22:21:23.568250",
     "status": "completed"
    },
    "tags": []
   },
   "outputs": [],
   "source": [
    "#q6.hint()\n",
    "#q6.solution()"
   ]
  },
  {
   "cell_type": "markdown",
   "id": "61d2a523",
   "metadata": {
    "papermill": {
     "duration": 0.007308,
     "end_time": "2024-09-08T22:21:23.598521",
     "exception": false,
     "start_time": "2024-09-08T22:21:23.591213",
     "status": "completed"
    },
    "tags": []
   },
   "source": [
    "# Keep going\n",
    "\n",
    "Move on to the [**data types and missing data**](https://www.kaggle.com/residentmario/data-types-and-missing-values)."
   ]
  },
  {
   "cell_type": "markdown",
   "id": "c22b9eed",
   "metadata": {
    "papermill": {
     "duration": 0.007079,
     "end_time": "2024-09-08T22:21:23.613072",
     "exception": false,
     "start_time": "2024-09-08T22:21:23.605993",
     "status": "completed"
    },
    "tags": []
   },
   "source": [
    "---\n",
    "\n",
    "\n",
    "\n",
    "\n",
    "*Have questions or comments? Visit the [course discussion forum](https://www.kaggle.com/learn/pandas/discussion) to chat with other learners.*"
   ]
  }
 ],
 "metadata": {
  "kaggle": {
   "accelerator": "none",
   "dataSources": [
    {
     "datasetId": 655,
     "sourceId": 1252,
     "sourceType": "datasetVersion"
    },
    {
     "datasetId": 2321,
     "sourceId": 3919,
     "sourceType": "datasetVersion"
    },
    {
     "datasetId": 2894,
     "sourceId": 4877,
     "sourceType": "datasetVersion"
    },
    {
     "datasetId": 3491,
     "sourceId": 5624,
     "sourceType": "datasetVersion"
    },
    {
     "datasetId": 1442,
     "sourceId": 8172,
     "sourceType": "datasetVersion"
    },
    {
     "datasetId": 9366,
     "sourceId": 13206,
     "sourceType": "datasetVersion"
    },
    {
     "datasetId": 179555,
     "sourceId": 403916,
     "sourceType": "datasetVersion"
    },
    {
     "datasetId": 4549,
     "sourceId": 466349,
     "sourceType": "datasetVersion"
    },
    {
     "datasetId": 2478,
     "sourceId": 1151655,
     "sourceType": "datasetVersion"
    },
    {
     "datasetId": 10128,
     "sourceId": 5438389,
     "sourceType": "datasetVersion"
    }
   ],
   "isGpuEnabled": false,
   "isInternetEnabled": false,
   "language": "python",
   "sourceType": "notebook"
  },
  "kernelspec": {
   "display_name": "Python 3",
   "language": "python",
   "name": "python3"
  },
  "language_info": {
   "codemirror_mode": {
    "name": "ipython",
    "version": 3
   },
   "file_extension": ".py",
   "mimetype": "text/x-python",
   "name": "python",
   "nbconvert_exporter": "python",
   "pygments_lexer": "ipython3",
   "version": "3.10.14"
  },
  "papermill": {
   "default_parameters": {},
   "duration": 7.031087,
   "end_time": "2024-09-08T22:21:24.140757",
   "environment_variables": {},
   "exception": null,
   "input_path": "__notebook__.ipynb",
   "output_path": "__notebook__.ipynb",
   "parameters": {},
   "start_time": "2024-09-08T22:21:17.109670",
   "version": "2.6.0"
  }
 },
 "nbformat": 4,
 "nbformat_minor": 5
}
